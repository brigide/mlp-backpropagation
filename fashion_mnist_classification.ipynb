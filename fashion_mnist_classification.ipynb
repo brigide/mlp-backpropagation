{
 "cells": [
  {
   "cell_type": "code",
   "execution_count": 1,
   "metadata": {},
   "outputs": [],
   "source": [
    "# Introduction and explanation"
   ]
  },
  {
   "cell_type": "code",
   "execution_count": 2,
   "metadata": {},
   "outputs": [
    {
     "name": "stdout",
     "output_type": "stream",
     "text": [
      "preparing data... this may take a while\n"
     ]
    }
   ],
   "source": [
    "# import and prepare data\n",
    "from keras.datasets import fashion_mnist\n",
    "import numpy as np\n",
    "\n",
    "# load dataset\n",
    "(trainX, trainY), (testX, testY) = fashion_mnist.load_data()\n",
    "\n",
    "\n",
    "print(f'preparing data... this may take a while')\n",
    "\n",
    "# need to transpose 2d array to 1d to work with the library\n",
    "train_x = []\n",
    "for i in range(len(trainX)):\n",
    "    train_x.append(trainX[i].flatten())\n",
    "\n",
    "test_x = []\n",
    "for i in range(len(testX)):\n",
    "    test_x.append(testX[i].flatten())\n",
    "\n",
    "# prepare targets\n",
    "# I want a propability of certain input being some clothe\n",
    "target_model = [0, 0, 0, 0, 0, 0, 0, 0, 0, 0]\n",
    "train_y = []\n",
    "for i in range(len(trainY)):\n",
    "    target = target_model.copy()\n",
    "    target[trainY[i]] = 1 # change the position probability based on the expected result label\n",
    "    train_y.append(target)\n",
    "\n",
    "test_y = []\n",
    "for i in range(len(testY)):\n",
    "    target = target_model.copy()\n",
    "    target[testY[i]] = 1\n",
    "    test_y.append(target)"
   ]
  },
  {
   "cell_type": "code",
   "execution_count": 3,
   "metadata": {},
   "outputs": [
    {
     "name": "stdout",
     "output_type": "stream",
     "text": [
      "training mlp...\n"
     ]
    },
    {
     "name": "stderr",
     "output_type": "stream",
     "text": [
      "f:\\master\\ml\\mlp-backpropagation\\neural_network.py:50: RuntimeWarning: overflow encountered in double_scalars\n",
      "  return 1 / (1 + math.e ** -x)\n"
     ]
    },
    {
     "name": "stdout",
     "output_type": "stream",
     "text": [
      "[0.0021464674892024563, 0.015031329171291677, 0.0038854201208185562, 0.0007369241847427553, 0.008717222688687064, 0.06865859492844462, 0.004769671607329361, 0.039608976549453785, 0.0009926223466013898, 0.10879529496056306]\n",
      "[1, 0, 0, 0, 0, 0, 0, 0, 0, 0]\n"
     ]
    },
    {
     "data": {
      "text/plain": [
       "<matplotlib.image.AxesImage at 0x209d6b65a50>"
      ]
     },
     "execution_count": 3,
     "metadata": {},
     "output_type": "execute_result"
    },
    {
     "data": {
      "image/png": "[encoded data removed]",
      "text/plain": [
       "<Figure size 640x480 with 1 Axes>"
      ]
     },
     "metadata": {},
     "output_type": "display_data"
    }
   ],
   "source": [
    "# training\n",
    "\n",
    "# import MLP and Neural Network lib\n",
    "from mlp import MLP\n",
    "from neural_network import NeuralNetwork\n",
    "\n",
    "mlp_1 = MLP(NeuralNetwork(784, 64, 10))\n",
    "\n",
    "print('training mlp...')\n",
    "mlp_1.train(train_x, train_y, 500)\n",
    "\n",
    "result = mlp_1.predict(test_x[1000])\n",
    "print(result)\n",
    "print(test_y[1000])\n",
    "\n",
    "# image printing\n",
    "import matplotlib.pyplot as plt\n",
    "plt.imshow(testX[1000])\n"
   ]
  }
 ],
 "metadata": {
  "kernelspec": {
   "display_name": "Python 3",
   "language": "python",
   "name": "python3"
  },
  "language_info": {
   "codemirror_mode": {
    "name": "ipython",
    "version": 3
   },
   "file_extension": ".py",
   "mimetype": "text/x-python",
   "name": "python",
   "nbconvert_exporter": "python",
   "pygments_lexer": "ipython3",
   "version": "3.11.4"
  },
  "orig_nbformat": 4
 },
 "nbformat": 4,
 "nbformat_minor": 2
}
